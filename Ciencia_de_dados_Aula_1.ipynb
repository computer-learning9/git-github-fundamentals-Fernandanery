{
  "nbformat": 4,
  "nbformat_minor": 0,
  "metadata": {
    "celltoolbar": "Slideshow",
    "kernelspec": {
      "display_name": "Python [conda env:root] *",
      "language": "python",
      "name": "conda-root-py"
    },
    "language_info": {
      "codemirror_mode": {
        "name": "ipython",
        "version": 3
      },
      "file_extension": ".py",
      "mimetype": "text/x-python",
      "name": "python",
      "nbconvert_exporter": "python",
      "pygments_lexer": "ipython3",
      "version": "3.9.2"
    },
    "rise": {
      "autolaunch": true,
      "enable_chalkboard": true,
      "progress": true,
      "scroll": true,
      "slideNumber": true
    },
    "colab": {
      "name": "Ciencia de dados - Aula 1.ipynb",
      "provenance": [],
      "collapsed_sections": [],
      "include_colab_link": true
    }
  },
  "cells": [
    {
      "cell_type": "markdown",
      "metadata": {
        "id": "view-in-github",
        "colab_type": "text"
      },
      "source": [
        "<a href=\"https://colab.research.google.com/github/computer-learning9/git-github-fundamentals-Fernandanery/blob/first-draft-content/Ciencia_de_dados_Aula_1.ipynb\" target=\"_parent\"><img src=\"https://colab.research.google.com/assets/colab-badge.svg\" alt=\"Open In Colab\"/></a>"
      ]
    },
    {
      "cell_type": "markdown",
      "metadata": {
        "id": "366RBiSVuS1f"
      },
      "source": [
        "[![Binder](https://mybinder.org/badge_logo.svg)](https://mybinder.org/v2/gh/storopoli/ciencia-de-dados/master?filepath=notebooks%2FAula_1_Operadores_Aritmeticos_Relacionais_e_Logicos.ipynb)\n",
        "<br>\n",
        "[![Open In Colab](https://colab.research.google.com/assets/colab-badge.svg)](https://colab.research.google.com/github/storopoli/ciencia-de-dados/blob/master/notebooks/Aula_1_Operadores_Aritmeticos_Relacionais_e_Logicos.ipynb)"
      ]
    },
    {
      "cell_type": "markdown",
      "metadata": {
        "id": "4Gu4shjauS1h"
      },
      "source": [
        "# Operadores Aritméticos, Relacionais e Lógicos\n",
        "\n",
        "**Objetivos**: Apresentar variáveis, operadores aritméticos, relacionais e lógicos utilizados em Python."
      ]
    },
    {
      "cell_type": "markdown",
      "metadata": {
        "id": "NqP2_qgGuS1i"
      },
      "source": [
        "Documentação Python 3: https://docs.python.org/3/library/index.html"
      ]
    },
    {
      "cell_type": "markdown",
      "metadata": {
        "id": "xMs8PW7OuS1j"
      },
      "source": [
        "## Variáveis\n",
        "\n",
        "Uma variável reserva espaço de memória para armazenar um certo tipo de dado e\n",
        "relacionado a um nome para referenciar o seu conteúdo (nome da variável).\n",
        "\n",
        "3 tipos básicos:\n",
        "* Numérico\n",
        "* Texto (String)\n",
        "* Lógico (Booleano)"
      ]
    },
    {
      "cell_type": "markdown",
      "metadata": {
        "id": "0tKJ6EoiuS1k"
      },
      "source": [
        "### Variáveis Numéricas\n",
        "\n",
        "Podem ser de dois tipos:\n",
        "* `int`: número inteiro\n",
        "* `float`: número real (ponto flutuante)"
      ]
    },
    {
      "cell_type": "code",
      "metadata": {
        "id": "eCR-buKcuS1k",
        "colab": {
          "base_uri": "https://localhost:8080/"
        },
        "outputId": "a8abf4c0-5b5b-4099-ef8f-dcdaf74edc65"
      },
      "source": [
        "# isto é um comentário\n",
        "x = 10 # int\n",
        "y = 8.9 # float\n",
        "\n",
        "print(type(x))\n",
        "print(type(y))\n",
        "#type(x), type(y)"
      ],
      "execution_count": null,
      "outputs": [
        {
          "output_type": "stream",
          "text": [
            "<class 'int'>\n",
            "<class 'float'>\n"
          ],
          "name": "stdout"
        }
      ]
    },
    {
      "cell_type": "markdown",
      "metadata": {
        "id": "KjuprsV1uS1m"
      },
      "source": [
        "### Variáveis de Texto (`string`)\n",
        "\n",
        "Qualquer texto é uma `string`"
      ]
    },
    {
      "cell_type": "code",
      "metadata": {
        "id": "P0B2OZEIuS1n",
        "colab": {
          "base_uri": "https://localhost:8080/"
        },
        "outputId": "c9de4919-718e-4e63-b13c-54ca127235d9"
      },
      "source": [
        "universidade = 'UNINOVE'\n",
        "logo = 'uni9 é 10'\n",
        "professor = 'Edson Melo de Souza'\n",
        "\n",
        "print(type(logo))\n",
        "#len() calcula o tamanho de uma variável string\n",
        "print('Número de caracteres do logo: ', len(logo)) # usando ,\n",
        "print('Bem-vindo à ' + universidade +\n",
        "      ', o seu professor é ' + professor) # usando +\n",
        "\n",
        "print(\"Hoje\", \"é\", \"segunda-feira\")\n",
        "print(\"Hoje \" + 'é ' + \"segunda\", \"feira\")\n",
        "print('')\n",
        "print(\"'Edson' Melo de Souza\")\n",
        "print('\"Edson\" Melo de Souza')\n",
        "print('')\n",
        "print(\"\\\"Edson\\\" Melo de Souza\")\n",
        "\n",
        "## Caracteres de escape\n",
        "print('\\nTotal 1:', 10)\n",
        "print('\\n\\n\\n\\t\\tTotal 2:', 100)\n",
        "print('\\nTotal 3:', 1000)"
      ],
      "execution_count": null,
      "outputs": [
        {
          "output_type": "stream",
          "text": [
            "<class 'str'>\n",
            "Número de caracteres do logo:  9\n",
            "Bem-vindo à UNINOVE, o seu professor é Edson Melo de Souza\n",
            "Hoje é segunda-feira\n",
            "Hoje é segunda feira\n",
            "\n",
            "'Edson' Melo de Souza\n",
            "\"Edson\" Melo de Souza\n",
            "\n",
            "\"Edson\" Melo de Souza\n",
            "\n",
            "Total 1: 10\n",
            "\n",
            "\n",
            "\n",
            "\t\tTotal 2: 100\n",
            "\n",
            "Total 3: 1000\n"
          ],
          "name": "stdout"
        }
      ]
    },
    {
      "cell_type": "markdown",
      "metadata": {
        "id": "-ZZa8AEyuS1o"
      },
      "source": [
        "### Variáveis Lógicas (`bool`)\n",
        "\n",
        "* Verdadeiro = `True` = $1$\n",
        "* Falso = `False` = $0$"
      ]
    },
    {
      "cell_type": "code",
      "metadata": {
        "id": "TK8eK0v9uS1q",
        "colab": {
          "base_uri": "https://localhost:8080/"
        },
        "outputId": "92115dcb-080f-48bb-ce23-b435fbdc339b"
      },
      "source": [
        "mortalidade = True\n",
        "\n",
        "print(mortalidade)\n",
        "print(type(mortalidade))"
      ],
      "execution_count": null,
      "outputs": [
        {
          "output_type": "stream",
          "text": [
            "True\n",
            "<class 'bool'>\n"
          ],
          "name": "stdout"
        }
      ]
    },
    {
      "cell_type": "markdown",
      "metadata": {
        "id": "5My3OPj4uS1q"
      },
      "source": [
        "## Leitura de Dados do Teclado\n",
        "\n",
        "A função utilizada para efetuar a leitura de dados a partir do teclado é a função `input()`."
      ]
    },
    {
      "cell_type": "code",
      "metadata": {
        "id": "fOcEzJiRuS1q",
        "colab": {
          "base_uri": "https://localhost:8080/"
        },
        "outputId": "232aff0f-d07b-4303-d9a9-c89901137b8a"
      },
      "source": [
        "print(\"dados do aluno\")\n",
        "nome = input(\"informe seu nome: \") # vai gerar um prompt de leitura\n",
        "idade = input (\"informe sua idade: \")\n",
        "print (nome, \"você tem\", idade, \"anos!!!\")\n",
        "\n",
        "# input é uma entrada de dados via teclado"
      ],
      "execution_count": null,
      "outputs": [
        {
          "output_type": "stream",
          "text": [
            "dados do aluno\n",
            "informe seu nome: Edson\n",
            "informe sua idade: 30\n",
            "Edson você tem 30 anos!!!\n"
          ],
          "name": "stdout"
        }
      ]
    },
    {
      "cell_type": "markdown",
      "metadata": {
        "id": "HRpjj9EBuS1r"
      },
      "source": [
        "## Operadores Aritméticos\n",
        "\n",
        "* Soma `x + y`\n",
        "* Subtração `x - y`\n",
        "* Multiplicação `x * y`\n",
        "* Divisão `x / y`\n",
        "* Divisão desconsiderando a parte fracionária `x // y`\n",
        "* Resto de uma divisão `x % y`\n",
        "* Absoluto `abs(x)`\n",
        "* Converter para Inteiro `int(x)`\n",
        "* Converter para Real `float(x)`\n",
        "* Potência `x ** y`"
      ]
    },
    {
      "cell_type": "code",
      "metadata": {
        "id": "S7oeXfrnuS1r",
        "colab": {
          "base_uri": "https://localhost:8080/"
        },
        "outputId": "4447c86c-de56-4f05-99c1-16ece82061a8"
      },
      "source": [
        "x = 10\n",
        "y = 3\n",
        "\n",
        "print('Soma: ', x + y)\n",
        "print('Subtração: ', x - y)\n",
        "print('Multiplicação: ', x * y)\n",
        "print('Divisão: ', x / y)\n",
        "print('Divisão desconsiderando a parte fracionária: ', x // y)\n",
        "print('Módulo - Resto de uma divisão: ', x % y)\n",
        "print('x elevado à y potência: ', x ** y)\n",
        "print()\n",
        "print(\"10 elevado ao quadrado é = \" + str( (10**2) ) )\n",
        "print(\"10 elevado ao quadrado é =\", 10**1 )"
      ],
      "execution_count": null,
      "outputs": [
        {
          "output_type": "stream",
          "text": [
            "Soma:  13\n",
            "Subtração:  7\n",
            "Multiplicação:  30\n",
            "Divisão:  3.3333333333333335\n",
            "Divisão desconsiderando a parte fracionária:  3\n",
            "Módulo - Resto de uma divisão:  1\n",
            "x elevado à y potência:  1000\n",
            "\n",
            "10 elevado ao quadrado é = 100\n",
            "10 elevado ao quadrado é = 10\n"
          ],
          "name": "stdout"
        }
      ]
    },
    {
      "cell_type": "markdown",
      "metadata": {
        "id": "Xupx2djXuS1s"
      },
      "source": [
        "### Arredondamento, Piso e Teto"
      ]
    },
    {
      "cell_type": "code",
      "metadata": {
        "id": "ffb3LnwCuS1s",
        "colab": {
          "base_uri": "https://localhost:8080/"
        },
        "outputId": "268f615e-2a5e-43ca-c125-83c9a3657432"
      },
      "source": [
        "import math # lê-se mafe\n",
        "# Documentação: https://docs.python.org/pt-br/3/library/math.html\n",
        "\n",
        "print('round: ', round(3.33)) # arredondamento para cima\n",
        "print('floor: ', math.floor(3.33)) # arredonda para o mais próximo\n",
        "print('ceil: ', math.ceil(1.01)) ## arredonda para o valor superior"
      ],
      "execution_count": null,
      "outputs": [
        {
          "output_type": "stream",
          "text": [
            "round:  3\n",
            "floor:  3\n",
            "ceil:  2\n"
          ],
          "name": "stdout"
        }
      ]
    },
    {
      "cell_type": "code",
      "metadata": {
        "id": "e4iNhBVfSxkX",
        "colab": {
          "base_uri": "https://localhost:8080/"
        },
        "outputId": "9afdf38c-4f52-4ea5-9116-98708c8d4b65"
      },
      "source": [
        "# Cortando casas no arredondamento\n",
        "x = 3.789123546\n",
        "print(round(x, 4))\n",
        "print(round(x, 3))\n",
        "print(round(x, 2))\n",
        "print(round(x, 1))\n",
        "print(round(x, 0))"
      ],
      "execution_count": null,
      "outputs": [
        {
          "output_type": "stream",
          "text": [
            "3.7891\n",
            "3.789\n",
            "3.79\n",
            "3.8\n",
            "3.789123546\n"
          ],
          "name": "stdout"
        }
      ]
    },
    {
      "cell_type": "code",
      "metadata": {
        "id": "GeiAdY2YTvcc",
        "colab": {
          "base_uri": "https://localhost:8080/"
        },
        "outputId": "c9b45385-8bfd-4e95-cd7b-070a0e5cc1de"
      },
      "source": [
        "# importar apenas uma funcionalidade de uma biblioteca\n",
        "#from math import sqrt # raíz quadrada (square root)\n",
        "sqrt(2)\n",
        "\n",
        "from math import floor, ceil, sqrt\n",
        "sqrt(2)"
      ],
      "execution_count": null,
      "outputs": [
        {
          "output_type": "execute_result",
          "data": {
            "text/plain": [
              "1.4142135623730951"
            ]
          },
          "metadata": {
            "tags": []
          },
          "execution_count": 51
        }
      ]
    },
    {
      "cell_type": "code",
      "metadata": {
        "id": "bLqo4jwjUcdg",
        "colab": {
          "base_uri": "https://localhost:8080/"
        },
        "outputId": "2616d9b7-0951-415c-ca97-e3984a4258d4"
      },
      "source": [
        "import math as m # `as` é um apelido (alias) para uma importação\n",
        "m.sqrt(2)"
      ],
      "execution_count": null,
      "outputs": [
        {
          "output_type": "execute_result",
          "data": {
            "text/plain": [
              "1.4142135623730951"
            ]
          },
          "metadata": {
            "tags": []
          },
          "execution_count": 50
        }
      ]
    },
    {
      "cell_type": "markdown",
      "metadata": {
        "id": "xqesD1rbVABS"
      },
      "source": [
        "# Treinando\n",
        "\n",
        "Fazer a leitura de 3 variáveis via teclado e calcular a potência de 3 de cada uma delas\n"
      ]
    },
    {
      "cell_type": "code",
      "metadata": {
        "id": "SHn_7AfrWQvt",
        "colab": {
          "base_uri": "https://localhost:8080/"
        },
        "outputId": "51f82831-a409-4e61-dbfd-02ec99508ef0"
      },
      "source": [
        "a = input('Valor de a: ')\n",
        "b = float(input('Valor de b: '))\n",
        "c = int(input('Valor de c: '))\n",
        "\n",
        "print(int(a) ** 3)\n",
        "print(b ** 3)\n",
        "print(c ** 3)"
      ],
      "execution_count": null,
      "outputs": [
        {
          "output_type": "stream",
          "text": [
            "Valor de a: 2\n",
            "Valor de b: 2\n",
            "Valor de c: 2\n",
            "8\n",
            "8.0\n",
            "8\n"
          ],
          "name": "stdout"
        }
      ]
    },
    {
      "cell_type": "code",
      "metadata": {
        "id": "SlQVxMNXZ2Uq",
        "colab": {
          "base_uri": "https://localhost:8080/"
        },
        "outputId": "1434b4e0-1c1c-4ffe-9e87-a8ba27c19aa8"
      },
      "source": [
        "import math\n",
        "# pow() é uma função de `math` que significa potência: pow(base, expoente)\n",
        "pow(float(input(\"Digite a base: \")), 3)"
      ],
      "execution_count": null,
      "outputs": [
        {
          "output_type": "stream",
          "text": [
            "Digite a base: 4\n"
          ],
          "name": "stdout"
        },
        {
          "output_type": "execute_result",
          "data": {
            "text/plain": [
              "64.0"
            ]
          },
          "metadata": {
            "tags": []
          },
          "execution_count": 58
        }
      ]
    },
    {
      "cell_type": "markdown",
      "metadata": {
        "id": "R_0TnZthuS1s"
      },
      "source": [
        "2## Operadores Relacionais\n",
        "\n",
        "Uma condição é o estabelecimento de uma relação lógica entre dois elementos. Para definir uma relação lógica é necessário usar operadores relacionais. Uma relação lógica (comparação) retorna somente os valores verdadeiro ou falso."
      ]
    },
    {
      "cell_type": "markdown",
      "metadata": {
        "id": "aReEO-15uS1s"
      },
      "source": [
        "* Igual a: `x == y`\n",
        "* Maior que: `x > y`\n",
        "* Menor que: `x < y`\n",
        "* Maior ou igual a: `x >= y`\n",
        "* Menor ou igual a: `x <= y`\n",
        "* Diferente de: `x != y`"
      ]
    },
    {
      "cell_type": "code",
      "metadata": {
        "id": "u3PVqF8PuS1t",
        "colab": {
          "base_uri": "https://localhost:8080/"
        },
        "outputId": "82ad4bd3-57c4-4861-aaa7-0f8ad5079356"
      },
      "source": [
        "x = 3\n",
        "y = 4\n",
        "\n",
        "# um operador relacional sempre \n",
        "# retornará True ou False\n",
        "print('Igual a: ', x == y)\n",
        "print('Maior que: ', x > y)\n",
        "print('Menor que: ', x < y)\n",
        "print('Maior ou igual a: ', x >= y)\n",
        "print('Menor ou igual a: ', x <= y)\n",
        "print('Diferente de: ', x != y) # negação é !="
      ],
      "execution_count": null,
      "outputs": [
        {
          "output_type": "stream",
          "text": [
            "Igual a:  False\n",
            "Maior que:  False\n",
            "Menor que:  True\n",
            "Maior ou igual a:  False\n",
            "Menor ou igual a:  True\n",
            "Diferente de:  True\n"
          ],
          "name": "stdout"
        }
      ]
    },
    {
      "cell_type": "code",
      "metadata": {
        "id": "b7E-Te3iUadQ",
        "colab": {
          "base_uri": "https://localhost:8080/"
        },
        "outputId": "30389ac3-cbff-4997-84ab-601ce490b5fe"
      },
      "source": [
        "# 10 não é menor que 4\n",
        "print(10 > 4)\n",
        "\n",
        "# 10 é diferente de 11\n",
        "print(10 != 11)"
      ],
      "execution_count": null,
      "outputs": [
        {
          "output_type": "stream",
          "text": [
            "True\n",
            "True\n"
          ],
          "name": "stdout"
        }
      ]
    },
    {
      "cell_type": "markdown",
      "metadata": {
        "id": "_qmG2zUDuS1t"
      },
      "source": [
        "## Operadores Lógicos\n",
        "São utilizados para uma mesma tomada de decisão que necessite de mais de uma condição. Também são conhecidos como operadores booleanos. Operadores lógicos retornam somente os valores verdadeiro ou falso.\n",
        "\n",
        "| Operador Lógico | Função    | Prioridade |\n",
        "|-----------------|-----------|---------------------|\n",
        "| `NOT`           | Negação   | 1                   |\n",
        "| `AND`           | Conjunção | 2                   |\n",
        "| `OR`            | Disjunção | 3                   |"
      ]
    },
    {
      "cell_type": "code",
      "metadata": {
        "id": "ybneBzBGuS1t",
        "colab": {
          "base_uri": "https://localhost:8080/"
        },
        "outputId": "80524ddb-6fd4-495e-d8ca-261e67685fcb"
      },
      "source": [
        "x = 1\n",
        "y = 3\n",
        "z = 5\n",
        "w = 2\n",
        "     #  T         F  \n",
        "print(z > w and w > y)  # False\n",
        "    #   T        F\n",
        "print(z > w or w > y)   # True\n",
        "print(not y + w == z)   # False"
      ],
      "execution_count": null,
      "outputs": [
        {
          "output_type": "stream",
          "text": [
            "False\n",
            "True\n",
            "False\n"
          ],
          "name": "stdout"
        }
      ]
    },
    {
      "cell_type": "code",
      "metadata": {
        "id": "fuMmJ-znc5Bt",
        "colab": {
          "base_uri": "https://localhost:8080/"
        },
        "outputId": "8b17ec3b-28c7-4708-f866-39229d6092e4"
      },
      "source": [
        "# Vamos adiantar o IF\n",
        "\n",
        "x = 12\n",
        "y = 12\n",
        "\n",
        "if x < y:\n",
        "  print('Valor se o resultado for verdadeiro')\n",
        "else:\n",
        "  print('Eles são diferentes ou iguais')\n",
        "\n",
        "#print('Resultado após o IF')"
      ],
      "execution_count": null,
      "outputs": [
        {
          "output_type": "stream",
          "text": [
            "Eles são diferentes ou iguais\n"
          ],
          "name": "stdout"
        }
      ]
    },
    {
      "cell_type": "code",
      "metadata": {
        "id": "7LzHddOtfI3N",
        "colab": {
          "base_uri": "https://localhost:8080/"
        },
        "outputId": "c731f4d4-905c-4d4c-cbf8-a7c304c60b42"
      },
      "source": [
        "x = 12\n",
        "y = 13\n",
        "\n",
        "if x < y:\n",
        "  print('Verdade, pois', x, '<', y)\n",
        "else:\n",
        "  if x == y:\n",
        "    print('Verdade, pois', x, '==', y)\n",
        "  else:\n",
        "    print('Falso, pois', x, '!=', y)\n",
        "  \n",
        "  #print('Eles são diferentes ou iguais')"
      ],
      "execution_count": null,
      "outputs": [
        {
          "output_type": "stream",
          "text": [
            "Verdade, pois 12 < 13\n"
          ],
          "name": "stdout"
        }
      ]
    },
    {
      "cell_type": "markdown",
      "metadata": {
        "id": "ZVOa1ePbg1MI"
      },
      "source": [
        "# Vamos treinar\n",
        "\n",
        "1.   Implemente um programa que escreve na tela a frase \"Meu primeiro programa em Python!!!\".\n",
        "\n",
        "\n",
        "2.   Você foi contratado por uma escola pra fazer o sistema de boletim dos alunos. Como primeiro passo, escreva um programa que produza a seguinte saída (Não é necessário manter o alinhamento):\n",
        "\n",
        "| Aluno(a)        \t|  Nota \t|\n",
        "|-----------------\t|------:\t|\n",
        "| Ana Maria       \t|  9.00 \t|\n",
        "| José Carlos     \t|  7.20 \t|\n",
        "| Júlio Martins   \t|  8.00 \t|\n",
        "| Ubiratan Santos \t| 10.00 \t|\n",
        "\n",
        "3. Utilizando <strong>variáveis</strong>, faça um programa para realizar o seguinte cálculo:\n",
        "10 + 20 - 30 + (45 * 3) / 8 ** 2\n",
        "\n",
        "\n",
        "4. Faça um programa que **leia duas variáveis pelo teclado** e apresente a soma entre eles\n",
        "\n",
        "\n",
        "5. Resolva a equação do 2° Grau a seguir, realizando a entrada dos valores de (a, b e c) pelo teclado. A solução real da equação é dada por $ax^2 + 𝑏𝑥 + 𝑐 = 0$, fórmula de Baskara.\n",
        "\n",
        "Exemplo:\n",
        "\n",
        "$a=1$, $b=3$ e $c=2$\n",
        "\n",
        "$ \\Delta = b^{2} - 4ac $, com $a \\neq 0$\n",
        "\n",
        "Se $ \\Delta < 0$ então mostrar \"não há solução real\"\n",
        "\n",
        "Senão, calcular e apresentar os resultados.\n",
        "\n",
        "$\n",
        "    x_1 = \\frac{−b−\\sqrt{\\Delta}}{2a}\n",
        "    \\\\\n",
        "    x_2 = \\frac{−b+\\sqrt{\\Delta}}{2a}\n",
        "$"
      ]
    },
    {
      "cell_type": "code",
      "metadata": {
        "colab": {
          "base_uri": "https://localhost:8080/"
        },
        "id": "5E5Fk1jHuFnx",
        "outputId": "cfc2a1c6-068e-48bf-f52a-78e0302b1465"
      },
      "source": [
        "#Passo 1 - improtar a biblioteca matemática SQR = raiza quadrada (Square root)\n",
        "from math import sqrt\n",
        "\n",
        "#Passo 2 - Ler os valores de A, B e C\n",
        "a = int(input(\"Digite o valor de A\"))\n",
        "b = int(input(\"Digite o valor de B\"))\n",
        "c = int(input(\"Digite o valor de C\"))\n",
        "\n",
        "#Passo 3 - Testar o valor de A =! (diferente) de zero\n",
        "if (a!=0):\n",
        "  delta = b*b - 4 * a * c\n",
        "\n",
        "  if (delta < 0):\n",
        "    print(\"Delta é negativo, logo, não há solução real\")\n",
        "\n",
        "  else:\n",
        "    x1 = (- b - sqrt (delta) / 2*a)\n",
        "    x1 = (- b + sqrt (delta) / 2*a)\n",
        "    print(\"\")\n",
        "\n",
        "    print(\" O valor de x1 é: \")\n",
        "    print(\" O valor de x2 é: \")\n",
        "\n",
        "else:\n",
        "  print(\" O valor de A deve ser diferente de zero\")\n",
        "\n"
      ],
      "execution_count": null,
      "outputs": [
        {
          "output_type": "stream",
          "text": [
            "Digite o valor de A1\n",
            "Digite o valor de B1\n",
            "Digite o valor de C1\n",
            "Delta é negativo, logo, não há solução real\n"
          ],
          "name": "stdout"
        }
      ]
    }
  ]
}