{
  "nbformat": 4,
  "nbformat_minor": 0,
  "metadata": {
    "celltoolbar": "Slideshow",
    "kernelspec": {
      "name": "python3",
      "display_name": "Python 3"
    },
    "rise": {
      "autolaunch": true,
      "enable_chalkboard": true,
      "progress": true,
      "scroll": true,
      "slideNumber": true
    },
    "colab": {
      "name": "Ciencia de dados - Aula 2.ipynb",
      "provenance": [],
      "collapsed_sections": [],
      "include_colab_link": true
    },
    "language_info": {
      "name": "python"
    }
  },
  "cells": [
    {
      "cell_type": "markdown",
      "metadata": {
        "id": "view-in-github",
        "colab_type": "text"
      },
      "source": [
        "<a href=\"https://colab.research.google.com/github/computer-learning9/git-github-fundamentals-Fernandanery/blob/first-draft-content/Ciencia_de_dados_Aula_2.ipynb\" target=\"_parent\"><img src=\"https://colab.research.google.com/assets/colab-badge.svg\" alt=\"Open In Colab\"/></a>"
      ]
    },
    {
      "cell_type": "markdown",
      "metadata": {
        "id": "zJvaNgadStQC"
      },
      "source": [
        "[![Binder](https://mybinder.org/badge_logo.svg)](https://mybinder.org/v2/gh/storopoli/ciencia-de-dados/master?filepath=notebooks%2FAula_2_Desvio_Condicional_IF.ipynb)\n",
        "<br>\n",
        "[![Open In Colab](https://colab.research.google.com/assets/colab-badge.svg)](https://colab.research.google.com/github/storopoli/ciencia-de-dados/blob/master/notebooks/Aula_2_Desvio_Condicional_IF.ipynb)"
      ]
    },
    {
      "cell_type": "markdown",
      "metadata": {
        "id": "B3wOB7mJStQK"
      },
      "source": [
        "# Desvio Condicional (`IF`)\n",
        "\n",
        "**Objetivos**: Apresentar desvio condicional em Python (`IF`)"
      ]
    },
    {
      "cell_type": "markdown",
      "metadata": {
        "id": "YZ7Dqc5aStQM"
      },
      "source": [
        "Os desvios condicionais, também chamados de estruturas de seleção ou decisão, são\n",
        "utilizados quando existe a necessidade de verificar condições para a realização de uma\n",
        "instrução ou de uma sequência de instruções. Os testes de seleção também podem ser\n",
        "utilizados para verificar opções de escolha."
      ]
    },
    {
      "cell_type": "markdown",
      "metadata": {
        "id": "ArFhxIhcStQP"
      },
      "source": [
        "## Desvio Condicional Simples\n",
        "\n",
        "Esse tipo de desvio é representado por uma instrução que avalia uma expressão lógica, resultando um valor que pode ser verdadeiro ou falso. Ele deve ser utilizado caso seja necessário executar instruções somente se uma condição for verdadeira.\n",
        "\n",
        "**Cuidado com indentação (*identation*)**\n",
        "\n",
        "```python\n",
        "if (condição):\n",
        "    instruções condição verdadeira\n",
        "instruções independentemente da condição ser verdadeira ou não\n",
        "```"
      ]
    },
    {
      "cell_type": "code",
      "metadata": {
        "id": "fWuteJ4GStQR",
        "colab": {
          "base_uri": "https://localhost:8080/"
        },
        "outputId": "fc372b79-f0ae-4520-9784-988854f2d5bd"
      },
      "source": [
        "a = 5\n",
        "b = 5\n",
        "c = 0\n",
        "\n",
        "if (a == b):\n",
        "    print('a é igual a b')\n",
        "    c +=2\n",
        "print('Valor de c: ', c)"
      ],
      "execution_count": null,
      "outputs": [
        {
          "output_type": "stream",
          "text": [
            "a é igual a b\n",
            "Valor de c:  2\n"
          ],
          "name": "stdout"
        }
      ]
    },
    {
      "cell_type": "code",
      "metadata": {
        "id": "uFl8LHoxStQV"
      },
      "source": [
        "a = 5\n",
        "b = 5\n",
        "c = 0\n",
        "if (a != b):\n",
        "    print('a é diferente de b')\n",
        "    c +=2\n",
        "print('Valor de c: ', c)"
      ],
      "execution_count": null,
      "outputs": []
    },
    {
      "cell_type": "code",
      "metadata": {
        "id": "UvQtdPu1StQW",
        "colab": {
          "base_uri": "https://localhost:8080/"
        },
        "outputId": "a5d80276-e4e8-4c99-dad1-aa5f2cb1359b"
      },
      "source": [
        "# Decisão encadeada\n",
        "a = 5\n",
        "b = 5\n",
        "c = 0\n",
        "\n",
        "if (a == b):\n",
        "    print('a é igual a B')\n",
        "    if (c + 5 == a):\n",
        "        print('c mais cinco é igual a A')\n",
        "        c += 2\n",
        "    c +=2\n",
        "print('Valor de C: ', c)"
      ],
      "execution_count": null,
      "outputs": [
        {
          "output_type": "stream",
          "text": [
            "a é igual a B\n",
            "c mais cinco é igual a A\n",
            "Valor de C:  4\n"
          ],
          "name": "stdout"
        }
      ]
    },
    {
      "cell_type": "code",
      "metadata": {
        "id": "-ebEmvBsStQY"
      },
      "source": [
        "a = 5\n",
        "b = 5\n",
        "c = 0\n",
        "\n",
        "if (a == b):\n",
        "    print('a é igual a b')\n",
        "    if (c + 6 == a):\n",
        "        print('c mais seis é igual a a')\n",
        "        c += 2\n",
        "    c +=2\n",
        "print('Valor de c: ', c)"
      ],
      "execution_count": null,
      "outputs": []
    },
    {
      "cell_type": "markdown",
      "metadata": {
        "id": "zEST16ErStQa"
      },
      "source": [
        "## Desvio Condicional Composto\n",
        "O desvio condicional composto prevê uma condição com 2 conjuntos de instruções para serem realizados de acordo com a avaliação da resposta: um bloco de instruções para resposta verdadeiro e um bloco de instruções para resposta falso.\n",
        "\n",
        "```python\n",
        "if (condição):\n",
        "    instruções condição verdadeira\n",
        "else:\n",
        "    instrução condição falsa\n",
        "instruções independentemente da condição ser verdadeira ou não\n",
        "```"
      ]
    },
    {
      "cell_type": "code",
      "metadata": {
        "id": "vnOyhUJYStQc",
        "colab": {
          "base_uri": "https://localhost:8080/"
        },
        "outputId": "f20cb28e-001b-41b2-fa81-7254e2843ec6"
      },
      "source": [
        "a = 5\n",
        "b = 5\n",
        "c = 0\n",
        "\n",
        "if (a == b):\n",
        "    print('A é igual a B')\n",
        "    if (c + 5 == a):\n",
        "        print('c mais cinco é igual a a')\n",
        "        c += 2\n",
        "else:\n",
        "    c +=3\n",
        "print('Valor de c: ', c)"
      ],
      "execution_count": null,
      "outputs": [
        {
          "output_type": "stream",
          "text": [
            "A é igual a B\n",
            "c mais cinco é igual a a\n",
            "Valor de c:  2\n"
          ],
          "name": "stdout"
        }
      ]
    },
    {
      "cell_type": "code",
      "metadata": {
        "id": "-TtPMHo5StQe",
        "colab": {
          "base_uri": "https://localhost:8080/"
        },
        "outputId": "4c7d3de9-99c6-47d7-e93a-595d8c2ecfcf"
      },
      "source": [
        "a = 5\n",
        "b = 5\n",
        "c = 0\n",
        "\n",
        "if (a != b):\n",
        "    print('a é diferente de b')\n",
        "    if (c + 6 == a):\n",
        "        print('c mais seis é igual a a')\n",
        "        c += 2\n",
        "else:\n",
        "    c +=3\n",
        "print('Valor de c: ', c)"
      ],
      "execution_count": null,
      "outputs": [
        {
          "output_type": "stream",
          "text": [
            "Valor de c:  3\n"
          ],
          "name": "stdout"
        }
      ]
    },
    {
      "cell_type": "markdown",
      "metadata": {
        "id": "hPYEwwBKStQg"
      },
      "source": [
        "## Desvio Condicional Encadeado\n",
        "Um desvio condicional encadeado é uma sequência de testes de seleção, os quais serão executados ou não de acordo com o resultado das condições e de acordo com o encadeamento dos testes.\n",
        "\n",
        "Existem casos em que é necessário estabelecer algumas verificações lógicas de condições definidas sucessivamente. A ideia aqui apresentada sugere a possibilidade de usar uma condição dentro de outra condição, o que leva a uma estrutura de decisão encadeada ou aninhada."
      ]
    },
    {
      "cell_type": "markdown",
      "metadata": {
        "id": "ZxCs0mrmStQh"
      },
      "source": [
        "```python\n",
        "if (condição_1):\n",
        "    instruções condição_1 verdadeira\n",
        "elif (condição_2):\n",
        "    instruções condição_2 verdadeira\n",
        "elif (condição_3):\n",
        "    instruções condição_3 verdadeira\n",
        "else:\n",
        "    instrução condições falsas\n",
        "instruções independentemente das condições serem verdadeiras ou não\n",
        "```"
      ]
    },
    {
      "cell_type": "code",
      "metadata": {
        "id": "NFyaJg0bStQj",
        "colab": {
          "base_uri": "https://localhost:8080/"
        },
        "outputId": "281f14a9-b77b-413c-ae7a-d1238d70ec07"
      },
      "source": [
        "c = 0\n",
        "a = int(input(\"informe valor de a: \\n\"))\n",
        "\n",
        "if (a==1):\n",
        "    c = 10\n",
        "elif (a==2):\n",
        "    c = 11\n",
        "elif (a==3):\n",
        "    c = 12\n",
        "elif (a==4):\n",
        "    c = 13\n",
        "elif (a==5):\n",
        "    c = 14\n",
        "else:\n",
        "    c = 20\n",
        "print(c)"
      ],
      "execution_count": null,
      "outputs": [
        {
          "output_type": "stream",
          "text": [
            "informe valor de a: \n",
            "2\n",
            "11\n"
          ],
          "name": "stdout"
        }
      ]
    },
    {
      "cell_type": "markdown",
      "metadata": {
        "id": "YoaocoGlStQl"
      },
      "source": [
        "## Atividade\n",
        "\n",
        "1. Designe uma variável `x` com o valor $8$\n",
        "2. Designe uma variável `y` com o valor $15$\n",
        "3. Crie 2 desvios condicionais:\n",
        "    * O primeiro deve imprimir \"Ao menos uma das condições foi satisfeita\" se `x` maior que $3$ **ou** `y` é número par\n",
        "    * O segundo deve imprimir \"Nenhuma condição foi satisfeita\" se `x` menor ou igual a $3$ **e** `y` é número ímpar\n",
        "\n",
        "\n",
        "Observação: use o módulo `%` para identificar número *ímpar* e *par*"
      ]
    },
    {
      "cell_type": "code",
      "metadata": {
        "id": "6zxnA6dnStQm",
        "colab": {
          "base_uri": "https://localhost:8080/"
        },
        "outputId": "22bf474f-118f-4bc3-9294-59cd4acfb903"
      },
      "source": [
        "x = 8\n",
        "y = 15\n",
        "\n",
        "if (x > 3 or y % 0 == 0):\n",
        " print('AO MENOS UMA DAS CONDIÇOES FOI SATISFEITA')\n",
        "elif (x <= 3 and y != 0):\n",
        "  print('Nenhuma condição foi satisfeita')"
      ],
      "execution_count": null,
      "outputs": [
        {
          "output_type": "stream",
          "text": [
            "AO MENOS UMA DAS CONDIÇOES FOI SATISFEITA\n"
          ],
          "name": "stdout"
        }
      ]
    },
    {
      "cell_type": "code",
      "metadata": {
        "colab": {
          "base_uri": "https://localhost:8080/"
        },
        "id": "4IN3r53wlYOf",
        "outputId": "3a268a46-7e97-4d30-cb2e-8e72dcea81fa"
      },
      "source": [
        "#Faça um programa que leio o peso e aletura de uma pessoa,\n",
        "#Calcule o seu IMC e moste o seu estado nutricional\n",
        "#IMC = peso / altura ** 2\n",
        "\n",
        "x = float(input('Seu peso é:'))\n",
        "y = float(input('Sua altura é:'))\n",
        "\n",
        "imc = x / y**2\n",
        "if x > 0 or y > 0 :\n",
        "  if imc < 18.5 :\n",
        "    print('Abaixo do peso ideal')\n",
        "  elif imc >= 18.5 and imc <= 24.9 :\n",
        "    print('Você está no seu peso ideal')\n",
        "  elif imc >= 25 and imc <= 29.9 :\n",
        "    print('Você está com sobrepeso')\n",
        "  elif imc >=30 and imc <= 34.9 :\n",
        "    print('Voce está com obesidade grau 1')\n",
        "  elif imc >= 35 and imc <= 39.9 :\n",
        "    print('Você está com obesidade grau 2')\n",
        "  elif imc >= 40 :\n",
        "    print('Você está com obesidade grau 3')\n",
        "\n",
        "\n"
      ],
      "execution_count": null,
      "outputs": [
        {
          "output_type": "stream",
          "text": [
            "Seu peso é:100\n",
            "Sua altura é:1.62\n",
            "Você está com obesidade grau 2\n"
          ],
          "name": "stdout"
        }
      ]
    }
  ]
}